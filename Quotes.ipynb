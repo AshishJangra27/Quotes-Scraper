{
 "cells": [
  {
   "cell_type": "code",
   "execution_count": 43,
   "id": "ef453b56",
   "metadata": {},
   "outputs": [],
   "source": [
    "import requests\n",
    "import pandas as pd\n",
    "from tqdm import tqdm\n",
    "from bs4 import BeautifulSoup"
   ]
  },
  {
   "cell_type": "markdown",
   "id": "660c9000",
   "metadata": {},
   "source": [
    "## Collecting Quotes and Authors"
   ]
  },
  {
   "cell_type": "code",
   "execution_count": 50,
   "id": "40245bcf",
   "metadata": {},
   "outputs": [
    {
     "name": "stderr",
     "output_type": "stream",
     "text": [
      "100%|█████████████████████████████████████████████| 9/9 [00:18<00:00,  2.04s/it]\n"
     ]
    }
   ],
   "source": [
    "data = []\n",
    "\n",
    "for page in tqdm(range(2,11)):\n",
    "    \n",
    "    link = 'https://quotes.toscrape.com/page/'+str(page)\n",
    "    res = requests.get(link)\n",
    "    soup = BeautifulSoup(res.text, 'html.parser')\n",
    "    \n",
    "    for sp in soup.find_all('div',class_ = 'quote'):\n",
    "        \n",
    "        quote      =  sp.find('span',class_ = 'text').text\n",
    "        author     =  sp.find('small').text\n",
    "        author_id  =  'https://quotes.toscrape.com' + sp.find('a').get('href')\n",
    "        \n",
    "        tags = []\n",
    "        \n",
    "        for tag in sp.find_all('a', class_ = 'tag'):\n",
    "            tags.append(tag.text)\n",
    "            \n",
    "        data.append([quote, author, author_id, ','.join(tags)])"
   ]
  },
  {
   "cell_type": "markdown",
   "id": "a0a43ec6",
   "metadata": {},
   "source": [
    "## Creating Dataset out of the Quotes and Author"
   ]
  },
  {
   "cell_type": "code",
   "execution_count": null,
   "id": "1b93a62d",
   "metadata": {},
   "outputs": [],
   "source": [
    "df = pd.DataFrame(data , columns = ['quote', 'author','author_id','tags'])"
   ]
  },
  {
   "cell_type": "code",
   "execution_count": 58,
   "id": "ac0ea08c",
   "metadata": {},
   "outputs": [],
   "source": [
    "df.to_csv('quotes.csv', index = False)"
   ]
  }
 ],
 "metadata": {
  "kernelspec": {
   "display_name": "Python 3 (ipykernel)",
   "language": "python",
   "name": "python3"
  },
  "language_info": {
   "codemirror_mode": {
    "name": "ipython",
    "version": 3
   },
   "file_extension": ".py",
   "mimetype": "text/x-python",
   "name": "python",
   "nbconvert_exporter": "python",
   "pygments_lexer": "ipython3",
   "version": "3.9.7"
  }
 },
 "nbformat": 4,
 "nbformat_minor": 5
}
