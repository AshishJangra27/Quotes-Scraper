{
 "cells": [
  {
   "cell_type": "code",
   "execution_count": 2,
   "id": "d213bdbf",
   "metadata": {},
   "outputs": [],
   "source": [
    "import requests\n",
    "import pandas as pd\n",
    "from tqdm import tqdm\n",
    "from bs4 import BeautifulSoup"
   ]
  },
  {
   "cell_type": "code",
   "execution_count": 35,
   "id": "5cfb2836",
   "metadata": {},
   "outputs": [],
   "source": [
    "df = pd.read_csv('quotes.csv')"
   ]
  },
  {
   "cell_type": "code",
   "execution_count": 36,
   "id": "4716a06f",
   "metadata": {},
   "outputs": [],
   "source": [
    "del df['quote']\n",
    "del df['tags']"
   ]
  },
  {
   "cell_type": "code",
   "execution_count": 37,
   "id": "d475208a",
   "metadata": {},
   "outputs": [],
   "source": [
    "df.drop_duplicates(inplace = True)"
   ]
  },
  {
   "cell_type": "markdown",
   "id": "176edda9",
   "metadata": {},
   "source": [
    "## Creating Textfile for Author Information"
   ]
  },
  {
   "cell_type": "code",
   "execution_count": 7,
   "id": "a36b7305",
   "metadata": {},
   "outputs": [
    {
     "name": "stderr",
     "output_type": "stream",
     "text": [
      "100%|███████████████████████████████████████████| 47/47 [01:26<00:00,  1.83s/it]\n"
     ]
    }
   ],
   "source": [
    "data = df.values\n",
    "\n",
    "for i in tqdm(range(len(data))):\n",
    "    \n",
    "    author = data[i][0]\n",
    "    link   = data[i][1]\n",
    "    \n",
    "    res = requests.get(link)\n",
    "    soup = BeautifulSoup(res.text,'html.parser')\n",
    "    \n",
    "    text = soup.find('div', class_ = 'author-details').text\n",
    "    \n",
    "    fd = open('Authors/' + author + '.txt', 'w')\n",
    "    fd.write(text)\n",
    "    fd.close()"
   ]
  },
  {
   "cell_type": "markdown",
   "id": "986814c9",
   "metadata": {},
   "source": [
    "## Creating CSV for Author Information"
   ]
  },
  {
   "cell_type": "code",
   "execution_count": 15,
   "id": "e5b30c35",
   "metadata": {
    "scrolled": true
   },
   "outputs": [
    {
     "name": "stderr",
     "output_type": "stream",
     "text": [
      "100%|███████████████████████████████████████████| 47/47 [01:33<00:00,  1.99s/it]\n"
     ]
    }
   ],
   "source": [
    "data = df.values\n",
    "\n",
    "authors = []\n",
    "\n",
    "for i in tqdm(range(len(data))):\n",
    "    \n",
    "    author = data[i][0]\n",
    "    link   = data[i][1]\n",
    "    \n",
    "    res = requests.get(link)\n",
    "    soup = BeautifulSoup(res.text,'html.parser')\n",
    "    \n",
    "    text = soup.find('div', class_ = 'author-details').text.strip()\n",
    "    \n",
    "    authors.append(text)\n"
   ]
  },
  {
   "cell_type": "code",
   "execution_count": 38,
   "id": "5c669ef5",
   "metadata": {},
   "outputs": [],
   "source": [
    "df['path'] = 'Authors/' + df['author']+ '.txt'\n",
    "df['author_info'] = authors"
   ]
  },
  {
   "cell_type": "code",
   "execution_count": 39,
   "id": "a159a444",
   "metadata": {},
   "outputs": [
    {
     "data": {
      "text/html": [
       "<div>\n",
       "<style scoped>\n",
       "    .dataframe tbody tr th:only-of-type {\n",
       "        vertical-align: middle;\n",
       "    }\n",
       "\n",
       "    .dataframe tbody tr th {\n",
       "        vertical-align: top;\n",
       "    }\n",
       "\n",
       "    .dataframe thead th {\n",
       "        text-align: right;\n",
       "    }\n",
       "</style>\n",
       "<table border=\"1\" class=\"dataframe\">\n",
       "  <thead>\n",
       "    <tr style=\"text-align: right;\">\n",
       "      <th></th>\n",
       "      <th>author</th>\n",
       "      <th>author_id</th>\n",
       "      <th>path</th>\n",
       "      <th>author_info</th>\n",
       "    </tr>\n",
       "  </thead>\n",
       "  <tbody>\n",
       "    <tr>\n",
       "      <th>0</th>\n",
       "      <td>Marilyn Monroe</td>\n",
       "      <td>https://quotes.toscrape.com/author/Marilyn-Monroe</td>\n",
       "      <td>Authors/Marilyn Monroe.txt</td>\n",
       "      <td>Marilyn Monroe\\nBorn: June 01, 1926 in The Uni...</td>\n",
       "    </tr>\n",
       "    <tr>\n",
       "      <th>1</th>\n",
       "      <td>J.K. Rowling</td>\n",
       "      <td>https://quotes.toscrape.com/author/J-K-Rowling</td>\n",
       "      <td>Authors/J.K. Rowling.txt</td>\n",
       "      <td>J.K. Rowling\\nBorn: July 31, 1965 in Yate, Sou...</td>\n",
       "    </tr>\n",
       "    <tr>\n",
       "      <th>2</th>\n",
       "      <td>Albert Einstein</td>\n",
       "      <td>https://quotes.toscrape.com/author/Albert-Eins...</td>\n",
       "      <td>Authors/Albert Einstein.txt</td>\n",
       "      <td>Albert Einstein\\nBorn: March 14, 1879 in Ulm, ...</td>\n",
       "    </tr>\n",
       "    <tr>\n",
       "      <th>3</th>\n",
       "      <td>Bob Marley</td>\n",
       "      <td>https://quotes.toscrape.com/author/Bob-Marley</td>\n",
       "      <td>Authors/Bob Marley.txt</td>\n",
       "      <td>Bob Marley\\nBorn: February 06, 1945 in Nine Mi...</td>\n",
       "    </tr>\n",
       "    <tr>\n",
       "      <th>4</th>\n",
       "      <td>Dr. Seuss</td>\n",
       "      <td>https://quotes.toscrape.com/author/Dr-Seuss</td>\n",
       "      <td>Authors/Dr. Seuss.txt</td>\n",
       "      <td>Dr. Seuss\\nBorn: March 02, 1904 in Springfield...</td>\n",
       "    </tr>\n",
       "  </tbody>\n",
       "</table>\n",
       "</div>"
      ],
      "text/plain": [
       "            author                                          author_id  \\\n",
       "0   Marilyn Monroe  https://quotes.toscrape.com/author/Marilyn-Monroe   \n",
       "1     J.K. Rowling     https://quotes.toscrape.com/author/J-K-Rowling   \n",
       "2  Albert Einstein  https://quotes.toscrape.com/author/Albert-Eins...   \n",
       "3       Bob Marley      https://quotes.toscrape.com/author/Bob-Marley   \n",
       "4        Dr. Seuss        https://quotes.toscrape.com/author/Dr-Seuss   \n",
       "\n",
       "                          path  \\\n",
       "0   Authors/Marilyn Monroe.txt   \n",
       "1     Authors/J.K. Rowling.txt   \n",
       "2  Authors/Albert Einstein.txt   \n",
       "3       Authors/Bob Marley.txt   \n",
       "4        Authors/Dr. Seuss.txt   \n",
       "\n",
       "                                         author_info  \n",
       "0  Marilyn Monroe\\nBorn: June 01, 1926 in The Uni...  \n",
       "1  J.K. Rowling\\nBorn: July 31, 1965 in Yate, Sou...  \n",
       "2  Albert Einstein\\nBorn: March 14, 1879 in Ulm, ...  \n",
       "3  Bob Marley\\nBorn: February 06, 1945 in Nine Mi...  \n",
       "4  Dr. Seuss\\nBorn: March 02, 1904 in Springfield...  "
      ]
     },
     "execution_count": 39,
     "metadata": {},
     "output_type": "execute_result"
    }
   ],
   "source": [
    "df.head()"
   ]
  },
  {
   "cell_type": "code",
   "execution_count": 40,
   "id": "b09f6c84",
   "metadata": {},
   "outputs": [],
   "source": [
    "df.to_csv('authors.csv', index = False)"
   ]
  },
  {
   "cell_type": "code",
   "execution_count": null,
   "id": "314c85d0",
   "metadata": {},
   "outputs": [],
   "source": []
  }
 ],
 "metadata": {
  "kernelspec": {
   "display_name": "Python 3 (ipykernel)",
   "language": "python",
   "name": "python3"
  },
  "language_info": {
   "codemirror_mode": {
    "name": "ipython",
    "version": 3
   },
   "file_extension": ".py",
   "mimetype": "text/x-python",
   "name": "python",
   "nbconvert_exporter": "python",
   "pygments_lexer": "ipython3",
   "version": "3.9.7"
  }
 },
 "nbformat": 4,
 "nbformat_minor": 5
}
